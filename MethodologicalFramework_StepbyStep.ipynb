{
 "cells": [
  {
   "cell_type": "markdown",
   "id": "3a3eed14",
   "metadata": {},
   "source": [
    "# step1:  create input matrices/networks from raw data"
   ]
  },
  {
   "cell_type": "code",
   "execution_count": null,
   "id": "f69222e9",
   "metadata": {},
   "outputs": [],
   "source": [
    "%%time\n",
    "%%bash\n",
    "cd step1_CreateInputNetworksMatrices\n",
    "python CreateInputNetworks.py\n",
    "cd .."
   ]
  },
  {
   "cell_type": "markdown",
   "id": "f79df6ff",
   "metadata": {},
   "source": [
    "# step2: NetSC-NMTF of different network combinations"
   ]
  },
  {
   "cell_type": "markdown",
   "id": "e603f2d2-a526-4d34-ab8c-8cfb7fe69d5d",
   "metadata": {},
   "source": [
    "This step may take a while to complete."
   ]
  },
  {
   "cell_type": "code",
   "execution_count": null,
   "id": "0ca74dbe",
   "metadata": {},
   "outputs": [],
   "source": [
    "%%time\n",
    "%%bash\n",
    "cd step2_NMTF\n",
    "python CopyFiles.py\n",
    "python Main_iCell.py\n",
    "cd .."
   ]
  },
  {
   "cell_type": "markdown",
   "id": "6c573870",
   "metadata": {},
   "source": [
    "# step3: Cluster G1 NMTF"
   ]
  },
  {
   "cell_type": "markdown",
   "id": "e7ed10f6",
   "metadata": {},
   "source": [
    "The clusters from the original study are available in the output as a zip file. Unzip first to be able to run the next step. This step should only be used if the user wants to generate new clusters. Note that the final result may change in that case."
   ]
  },
  {
   "cell_type": "code",
   "execution_count": null,
   "id": "e8f7a9b6",
   "metadata": {},
   "outputs": [],
   "source": [
    "%%time\n",
    "%%bash\n",
    "cd step3_ClusterG1NMTF\n",
    "python CopyFiles.py\n",
    "python ClusterNMTFEmbeddings.py\n",
    "cd .."
   ]
  },
  {
   "cell_type": "markdown",
   "id": "358e0ba8",
   "metadata": {},
   "source": [
    "# step4: Enrich clusters in PD genes and find the most optimal k-means clustering runs"
   ]
  },
  {
   "cell_type": "code",
   "execution_count": null,
   "id": "5604cf79",
   "metadata": {},
   "outputs": [],
   "source": [
    "%%time\n",
    "%%bash\n",
    "cd step4_PDgenesClustEnirch \n",
    "python CopyFiles.py\n",
    "python PDgenesClustEnirchment.py\n",
    "cd .."
   ]
  },
  {
   "cell_type": "markdown",
   "id": "f474cb5e",
   "metadata": {},
   "source": [
    "# step5: BioAnnots Cluster Enrichment"
   ]
  },
  {
   "cell_type": "markdown",
   "id": "1838fc57",
   "metadata": {},
   "source": [
    "python BioAnnotsClustEnrich_kmeans.py True/False \n",
    "- True: compute the enrichments in biological annotations and generate bar plots\n",
    "- False: load the computed enrichments in biological annotations and generate bar plots"
   ]
  },
  {
   "cell_type": "code",
   "execution_count": null,
   "id": "9f7e16e7",
   "metadata": {},
   "outputs": [],
   "source": [
    "%%time\n",
    "%%bash\n",
    "cd step5_BioAnnotsClustEnrich\n",
    "python CopyFiles.py\n",
    "python BioAnnotsClustEnrich.py True\n",
    "cd .."
   ]
  },
  {
   "cell_type": "markdown",
   "id": "c9841b14",
   "metadata": {},
   "source": [
    "# step6: Keep non-PD genes from PD enriched clusters"
   ]
  },
  {
   "cell_type": "code",
   "execution_count": null,
   "id": "25426845",
   "metadata": {
    "scrolled": true
   },
   "outputs": [],
   "source": [
    "%%time\n",
    "%%bash\n",
    "cd step6_InitPreds\n",
    "python CopyFiles.py\n",
    "python PDEnrichClusts_InitPreds.py\n",
    "cd .."
   ]
  },
  {
   "cell_type": "markdown",
   "id": "0b46a6cd",
   "metadata": {},
   "source": [
    "# step7: Compute GMM"
   ]
  },
  {
   "cell_type": "code",
   "execution_count": null,
   "id": "86709005",
   "metadata": {},
   "outputs": [],
   "source": [
    "%%time\n",
    "%%bash\n",
    "cd step7_ComputeGMM\n",
    "python CopyFiles.py\n",
    "python ComputeGMM.py\n",
    "cd .."
   ]
  },
  {
   "cell_type": "markdown",
   "id": "c4112074",
   "metadata": {},
   "source": [
    "# step8: Stage Specific PD predictions; Core PD predictions"
   ]
  },
  {
   "cell_type": "code",
   "execution_count": null,
   "id": "4d155d88",
   "metadata": {},
   "outputs": [],
   "source": [
    "%%time\n",
    "%%bash\n",
    "cd step8_StageSpec_CorePreds\n",
    "python CopyFiles.py\n",
    "python PDpredicts_SS_CP.py\n",
    "cd .."
   ]
  },
  {
   "cell_type": "markdown",
   "id": "aa2eec5b",
   "metadata": {},
   "source": [
    "# step9: Literature Validation of Stage Specific and Core PD Predictions"
   ]
  },
  {
   "cell_type": "code",
   "execution_count": null,
   "id": "ae42b743",
   "metadata": {},
   "outputs": [],
   "source": [
    "%%time\n",
    "%%bash\n",
    "cd step9_Literature_Validation\n",
    "python CopyFiles.py\n",
    "python Literature_Validation.py \n",
    "cd .."
   ]
  },
  {
   "cell_type": "markdown",
   "id": "76529785",
   "metadata": {},
   "source": [
    "# Step10: Network Analysis"
   ]
  },
  {
   "cell_type": "code",
   "execution_count": null,
   "id": "181b8b5f",
   "metadata": {},
   "outputs": [],
   "source": [
    "%%time\n",
    "%%bash\n",
    "cd step10_NetworkAna\n",
    "python CopyFiles.py\n",
    "python NetworkAna.py\n",
    "cd .."
   ]
  },
  {
   "cell_type": "markdown",
   "id": "93041972",
   "metadata": {},
   "source": [
    "# step11: Enrichment Analysis: KEGG and PD map pathways"
   ]
  },
  {
   "cell_type": "code",
   "execution_count": null,
   "id": "1840ea24",
   "metadata": {},
   "outputs": [],
   "source": [
    "%%time\n",
    "%%bash\n",
    "cd step11_EnrichmentAnalysis\n",
    "python CopyFiles.py\n",
    "python EnrichmentAnalysis.py\n",
    "cd .."
   ]
  },
  {
   "cell_type": "markdown",
   "id": "504fd1c2",
   "metadata": {},
   "source": [
    "# auxStep Compare with other approaches"
   ]
  },
  {
   "cell_type": "markdown",
   "id": "54a44171",
   "metadata": {},
   "source": [
    "python DistanceFromPDGenes.py True/False \n",
    "- True: compute the distances of genes to the PD genes\n",
    "- False: load the distances of genes to the PD genes"
   ]
  },
  {
   "cell_type": "code",
   "execution_count": null,
   "id": "04aecf4f",
   "metadata": {},
   "outputs": [],
   "source": [
    "%%time\n",
    "%%bash\n",
    "cd auxStep_JustifyClusteringDistanceApproach\n",
    "cd DistanceFromPDGene\n",
    "python CopyFiles.py\n",
    "python DistanceFromPDGenes.py True\n",
    "cd .."
   ]
  },
  {
   "cell_type": "code",
   "execution_count": null,
   "id": "3f3d738b",
   "metadata": {},
   "outputs": [],
   "source": [
    "%%time\n",
    "%%bash\n",
    "cd auxStep_JustifyClusteringDistanceApproach\n",
    "cd MovingDistancePDControl\n",
    "python CopyFiles.py\n",
    "python MovingDistancePDControl.py\n",
    "cd KEGGEnrichmentAnalysis\n",
    "python CopyFiles.py\n",
    "python KEGGEnrichmentAnalysis.py\n",
    "cd ..\n",
    "cd .."
   ]
  },
  {
   "cell_type": "markdown",
   "id": "11697864",
   "metadata": {},
   "source": [
    "To obtain new predictions with LIGER, run it in R."
   ]
  },
  {
   "cell_type": "code",
   "execution_count": null,
   "id": "9054699a",
   "metadata": {},
   "outputs": [],
   "source": [
    "%%time\n",
    "%%bash\n",
    "cd auxStep_JustifyClusteringDistanceApproach\n",
    "cd LIGER\n",
    "cd Literature_Validation\n",
    "python CopyFiles.py\n",
    "python Literature_Validation.py "
   ]
  },
  {
   "cell_type": "code",
   "execution_count": null,
   "id": "2e76115b",
   "metadata": {},
   "outputs": [],
   "source": []
  }
 ],
 "metadata": {
  "kernelspec": {
   "display_name": "Python 3 (ipykernel)",
   "language": "python",
   "name": "python3"
  },
  "language_info": {
   "codemirror_mode": {
    "name": "ipython",
    "version": 3
   },
   "file_extension": ".py",
   "mimetype": "text/x-python",
   "name": "python",
   "nbconvert_exporter": "python",
   "pygments_lexer": "ipython3",
   "version": "3.12.0"
  }
 },
 "nbformat": 4,
 "nbformat_minor": 5
}
